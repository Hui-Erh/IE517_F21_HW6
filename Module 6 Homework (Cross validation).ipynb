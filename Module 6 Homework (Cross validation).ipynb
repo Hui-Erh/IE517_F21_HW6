{
 "cells": [
  {
   "cell_type": "code",
   "execution_count": 1,
   "metadata": {},
   "outputs": [],
   "source": [
    "import numpy as np\n",
    "import pandas as pd\n",
    "\n",
    "from sklearn.model_selection import train_test_split\n",
    "from sklearn.tree import DecisionTreeClassifier\n",
    "from sklearn.metrics import accuracy_score,confusion_matrix,classification_report\n",
    "from sklearn.model_selection import RepeatedStratifiedKFold\n",
    "from sklearn.model_selection import cross_val_score\n",
    "from sklearn.model_selection import GridSearchCV\n",
    "import matplotlib.pyplot as plt\n",
    "%matplotlib inline\n",
    "from sklearn.pipeline import make_pipeline, Pipeline\n",
    "from imblearn.under_sampling import RandomUnderSampler\n",
    "\n",
    "import imblearn\n",
    "from imblearn.over_sampling import SMOTE\n",
    "from collections import Counter\n",
    "from numpy import where"
   ]
  },
  {
   "cell_type": "code",
   "execution_count": 2,
   "metadata": {},
   "outputs": [
    {
     "data": {
      "text/html": [
       "<div>\n",
       "<style scoped>\n",
       "    .dataframe tbody tr th:only-of-type {\n",
       "        vertical-align: middle;\n",
       "    }\n",
       "\n",
       "    .dataframe tbody tr th {\n",
       "        vertical-align: top;\n",
       "    }\n",
       "\n",
       "    .dataframe thead th {\n",
       "        text-align: right;\n",
       "    }\n",
       "</style>\n",
       "<table border=\"1\" class=\"dataframe\">\n",
       "  <thead>\n",
       "    <tr style=\"text-align: right;\">\n",
       "      <th></th>\n",
       "      <th>ID</th>\n",
       "      <th>LIMIT_BAL</th>\n",
       "      <th>SEX</th>\n",
       "      <th>EDUCATION</th>\n",
       "      <th>MARRIAGE</th>\n",
       "      <th>AGE</th>\n",
       "      <th>PAY_0</th>\n",
       "      <th>PAY_2</th>\n",
       "      <th>PAY_3</th>\n",
       "      <th>PAY_4</th>\n",
       "      <th>...</th>\n",
       "      <th>BILL_AMT4</th>\n",
       "      <th>BILL_AMT5</th>\n",
       "      <th>BILL_AMT6</th>\n",
       "      <th>PAY_AMT1</th>\n",
       "      <th>PAY_AMT2</th>\n",
       "      <th>PAY_AMT3</th>\n",
       "      <th>PAY_AMT4</th>\n",
       "      <th>PAY_AMT5</th>\n",
       "      <th>PAY_AMT6</th>\n",
       "      <th>DEFAULT</th>\n",
       "    </tr>\n",
       "  </thead>\n",
       "  <tbody>\n",
       "    <tr>\n",
       "      <th>0</th>\n",
       "      <td>1</td>\n",
       "      <td>20000</td>\n",
       "      <td>2</td>\n",
       "      <td>2</td>\n",
       "      <td>1</td>\n",
       "      <td>24</td>\n",
       "      <td>2</td>\n",
       "      <td>2</td>\n",
       "      <td>-1</td>\n",
       "      <td>-1</td>\n",
       "      <td>...</td>\n",
       "      <td>0</td>\n",
       "      <td>0</td>\n",
       "      <td>0</td>\n",
       "      <td>0</td>\n",
       "      <td>689</td>\n",
       "      <td>0</td>\n",
       "      <td>0</td>\n",
       "      <td>0</td>\n",
       "      <td>0</td>\n",
       "      <td>1</td>\n",
       "    </tr>\n",
       "    <tr>\n",
       "      <th>1</th>\n",
       "      <td>2</td>\n",
       "      <td>120000</td>\n",
       "      <td>2</td>\n",
       "      <td>2</td>\n",
       "      <td>2</td>\n",
       "      <td>26</td>\n",
       "      <td>-1</td>\n",
       "      <td>2</td>\n",
       "      <td>0</td>\n",
       "      <td>0</td>\n",
       "      <td>...</td>\n",
       "      <td>3272</td>\n",
       "      <td>3455</td>\n",
       "      <td>3261</td>\n",
       "      <td>0</td>\n",
       "      <td>1000</td>\n",
       "      <td>1000</td>\n",
       "      <td>1000</td>\n",
       "      <td>0</td>\n",
       "      <td>2000</td>\n",
       "      <td>1</td>\n",
       "    </tr>\n",
       "    <tr>\n",
       "      <th>2</th>\n",
       "      <td>3</td>\n",
       "      <td>90000</td>\n",
       "      <td>2</td>\n",
       "      <td>2</td>\n",
       "      <td>2</td>\n",
       "      <td>34</td>\n",
       "      <td>0</td>\n",
       "      <td>0</td>\n",
       "      <td>0</td>\n",
       "      <td>0</td>\n",
       "      <td>...</td>\n",
       "      <td>14331</td>\n",
       "      <td>14948</td>\n",
       "      <td>15549</td>\n",
       "      <td>1518</td>\n",
       "      <td>1500</td>\n",
       "      <td>1000</td>\n",
       "      <td>1000</td>\n",
       "      <td>1000</td>\n",
       "      <td>5000</td>\n",
       "      <td>0</td>\n",
       "    </tr>\n",
       "    <tr>\n",
       "      <th>3</th>\n",
       "      <td>4</td>\n",
       "      <td>50000</td>\n",
       "      <td>2</td>\n",
       "      <td>2</td>\n",
       "      <td>1</td>\n",
       "      <td>37</td>\n",
       "      <td>0</td>\n",
       "      <td>0</td>\n",
       "      <td>0</td>\n",
       "      <td>0</td>\n",
       "      <td>...</td>\n",
       "      <td>28314</td>\n",
       "      <td>28959</td>\n",
       "      <td>29547</td>\n",
       "      <td>2000</td>\n",
       "      <td>2019</td>\n",
       "      <td>1200</td>\n",
       "      <td>1100</td>\n",
       "      <td>1069</td>\n",
       "      <td>1000</td>\n",
       "      <td>0</td>\n",
       "    </tr>\n",
       "    <tr>\n",
       "      <th>4</th>\n",
       "      <td>5</td>\n",
       "      <td>50000</td>\n",
       "      <td>1</td>\n",
       "      <td>2</td>\n",
       "      <td>1</td>\n",
       "      <td>57</td>\n",
       "      <td>-1</td>\n",
       "      <td>0</td>\n",
       "      <td>-1</td>\n",
       "      <td>0</td>\n",
       "      <td>...</td>\n",
       "      <td>20940</td>\n",
       "      <td>19146</td>\n",
       "      <td>19131</td>\n",
       "      <td>2000</td>\n",
       "      <td>36681</td>\n",
       "      <td>10000</td>\n",
       "      <td>9000</td>\n",
       "      <td>689</td>\n",
       "      <td>679</td>\n",
       "      <td>0</td>\n",
       "    </tr>\n",
       "  </tbody>\n",
       "</table>\n",
       "<p>5 rows × 25 columns</p>\n",
       "</div>"
      ],
      "text/plain": [
       "   ID  LIMIT_BAL  SEX  EDUCATION  MARRIAGE  AGE  PAY_0  PAY_2  PAY_3  PAY_4  \\\n",
       "0   1      20000    2          2         1   24      2      2     -1     -1   \n",
       "1   2     120000    2          2         2   26     -1      2      0      0   \n",
       "2   3      90000    2          2         2   34      0      0      0      0   \n",
       "3   4      50000    2          2         1   37      0      0      0      0   \n",
       "4   5      50000    1          2         1   57     -1      0     -1      0   \n",
       "\n",
       "   ...  BILL_AMT4  BILL_AMT5  BILL_AMT6  PAY_AMT1  PAY_AMT2  PAY_AMT3  \\\n",
       "0  ...          0          0          0         0       689         0   \n",
       "1  ...       3272       3455       3261         0      1000      1000   \n",
       "2  ...      14331      14948      15549      1518      1500      1000   \n",
       "3  ...      28314      28959      29547      2000      2019      1200   \n",
       "4  ...      20940      19146      19131      2000     36681     10000   \n",
       "\n",
       "   PAY_AMT4  PAY_AMT5  PAY_AMT6  DEFAULT  \n",
       "0         0         0         0        1  \n",
       "1      1000         0      2000        1  \n",
       "2      1000      1000      5000        0  \n",
       "3      1100      1069      1000        0  \n",
       "4      9000       689       679        0  \n",
       "\n",
       "[5 rows x 25 columns]"
      ]
     },
     "execution_count": 2,
     "metadata": {},
     "output_type": "execute_result"
    }
   ],
   "source": [
    "df = pd.read_csv('ccdefault.csv', sep = ',')\n",
    "df.head()"
   ]
  },
  {
   "cell_type": "markdown",
   "metadata": {},
   "source": [
    "# Identify X and y"
   ]
  },
  {
   "cell_type": "code",
   "execution_count": 3,
   "metadata": {},
   "outputs": [],
   "source": [
    "X = df.iloc[:, 1:-1].values\n",
    "y = df.iloc[:, -1].values"
   ]
  },
  {
   "cell_type": "markdown",
   "metadata": {},
   "source": [
    "# Train_test_split"
   ]
  },
  {
   "cell_type": "code",
   "execution_count": 4,
   "metadata": {},
   "outputs": [
    {
     "name": "stdout",
     "output_type": "stream",
     "text": [
      "(27000, 23) (3000, 23)\n",
      "(27000,) (3000,)\n"
     ]
    }
   ],
   "source": [
    "X_train,X_test,y_train,y_test=train_test_split(X, y, test_size=0.1, stratify=y, random_state=1)\n",
    "print(X_train.shape, X_test.shape)\n",
    "print(y_train.shape, y_test.shape)"
   ]
  },
  {
   "cell_type": "markdown",
   "metadata": {},
   "source": [
    "# Baseline model"
   ]
  },
  {
   "cell_type": "code",
   "execution_count": 5,
   "metadata": {},
   "outputs": [
    {
     "name": "stdout",
     "output_type": "stream",
     "text": [
      "Test Accuracy: 0.727\n"
     ]
    }
   ],
   "source": [
    "tree = DecisionTreeClassifier()\n",
    "tree.fit(X_train, y_train)\n",
    "y_pred = tree.predict(X_test)\n",
    "print('Test Accuracy: %.3f' % tree.score(X_test, y_test))"
   ]
  },
  {
   "cell_type": "code",
   "execution_count": 6,
   "metadata": {},
   "outputs": [
    {
     "name": "stdout",
     "output_type": "stream",
     "text": [
      "Test Accuracy: 0.724\n"
     ]
    }
   ],
   "source": [
    "# define model\n",
    "model = DecisionTreeClassifier()\n",
    "# evaluate pipeline\n",
    "cv = RepeatedStratifiedKFold(n_splits=10, n_repeats=3, random_state=1)\n",
    "scores = cross_val_score(model, X_train, y_train, scoring='accuracy', cv=cv, n_jobs=-1)\n",
    "print('Test Accuracy: %.3f' % np.mean(scores))"
   ]
  },
  {
   "cell_type": "markdown",
   "metadata": {},
   "source": [
    "# Decision tree classifier"
   ]
  },
  {
   "cell_type": "code",
   "execution_count": 7,
   "metadata": {},
   "outputs": [],
   "source": [
    "# Using a for loop to test multiple values of random_state for DecisionTree Classifier.\n",
    "# try random_state from 1 to 10 and record test accuracy score\n",
    "\n",
    "train_score = []\n",
    "test_score = []\n",
    "\n",
    "for i in range(1,11):\n",
    "    tree = DecisionTreeClassifier(max_depth=3, criterion='gini', max_features=5, random_state = i)\n",
    "    tree.fit(X_train, y_train)\n",
    "    y_pred = tree.predict(X_test)\n",
    "    train_score.append(accuracy_score(y_train, tree.predict(X_train)))  \n",
    "    test_score.append(accuracy_score(y_test, y_pred))"
   ]
  },
  {
   "cell_type": "code",
   "execution_count": 8,
   "metadata": {},
   "outputs": [
    {
     "name": "stdout",
     "output_type": "stream",
     "text": [
      "The accuracy score for the train set is  [0.799 0.82  0.796 0.821 0.82  0.82  0.819 0.8   0.82  0.817]\n",
      "The accuracy score for the test set is  [0.804 0.825 0.8   0.821 0.822 0.82  0.82  0.806 0.819 0.821]\n"
     ]
    }
   ],
   "source": [
    "print('The accuracy score for the train set is ', np.round(train_score, 3))\n",
    "print('The accuracy score for the test set is ', np.round(test_score, 3))"
   ]
  },
  {
   "cell_type": "code",
   "execution_count": 9,
   "metadata": {},
   "outputs": [
    {
     "name": "stdout",
     "output_type": "stream",
     "text": [
      "The mean of accuracy score for the train set is  0.813\n",
      "The standard deviation of accuracy score for the train set is  0.01\n",
      "The mean of accuracy score for the test set is  0.816\n",
      "The standard deviation of accuracy score for the test set is  0.008\n"
     ]
    }
   ],
   "source": [
    "print('The mean of accuracy score for the train set is ', np.round(np.mean(train_score), 3))\n",
    "print('The standard deviation of accuracy score for the train set is ', np.round(np.std(train_score), 3))\n",
    "print('The mean of accuracy score for the test set is ', np.round(np.mean(test_score), 3))\n",
    "print('The standard deviation of accuracy score for the test set is ', np.round(np.std(test_score), 3))"
   ]
  },
  {
   "cell_type": "code",
   "execution_count": 10,
   "metadata": {},
   "outputs": [
    {
     "name": "stdout",
     "output_type": "stream",
     "text": [
      "                pred_class 0   pred_class 1\n",
      "actual_class 0           2185           151\n",
      "actual_class 1            387           277\n"
     ]
    }
   ],
   "source": [
    "# Confusion Matrix\n",
    "conmatrix = confusion_matrix(y_test, y_pred)\n",
    "conmatrix_df = pd.DataFrame(conmatrix, \n",
    "              columns = ['pred_class 0 ', 'pred_class 1'], \n",
    "              index = ['actual_class 0', 'actual_class 1']\n",
    "              )\n",
    "print(conmatrix_df)\n",
    "\n",
    "# this is an imbalance data"
   ]
  },
  {
   "cell_type": "code",
   "execution_count": 11,
   "metadata": {},
   "outputs": [
    {
     "name": "stdout",
     "output_type": "stream",
     "text": [
      "                        precision    recall  f1-score   support\n",
      "\n",
      "class 0 (non-defaults)       0.85      0.94      0.89      2336\n",
      "    class 1 (defaults)       0.65      0.42      0.51       664\n",
      "\n",
      "              accuracy                           0.82      3000\n",
      "             macro avg       0.75      0.68      0.70      3000\n",
      "          weighted avg       0.80      0.82      0.81      3000\n",
      "\n"
     ]
    }
   ],
   "source": [
    "# Classification Report\n",
    "target = ['class 0 (non-defaults)','class 1 (defaults)']\n",
    "report = classification_report(y_test, y_pred, target_names = target)\n",
    "print(report)"
   ]
  },
  {
   "cell_type": "code",
   "execution_count": 12,
   "metadata": {},
   "outputs": [
    {
     "name": "stderr",
     "output_type": "stream",
     "text": [
      "<ipython-input-12-b40b312ef472>:6: UserWarning: FixedFormatter should only be used together with FixedLocator\n",
      "  ax.set_xticklabels([''] + labels)\n",
      "<ipython-input-12-b40b312ef472>:7: UserWarning: FixedFormatter should only be used together with FixedLocator\n",
      "  ax.set_yticklabels([''] + labels)\n"
     ]
    },
    {
     "data": {
      "image/png": "[encoded data removed]",
      "text/plain": [
       "<Figure size 432x288 with 2 Axes>"
      ]
     },
     "metadata": {
      "needs_background": "light"
     },
     "output_type": "display_data"
    }
   ],
   "source": [
    "labels = ['Class 0', 'Class 1']\n",
    "fig = plt.figure()\n",
    "ax = fig.add_subplot(111)\n",
    "cax = ax.matshow(confusion_matrix(y_test, y_pred), cmap=plt.cm.Blues)\n",
    "fig.colorbar(cax)\n",
    "ax.set_xticklabels([''] + labels)\n",
    "ax.set_yticklabels([''] + labels)\n",
    "plt.xlabel('Predicted')\n",
    "plt.ylabel('Expected')\n",
    "plt.show()"
   ]
  },
  {
   "cell_type": "markdown",
   "metadata": {},
   "source": [
    "# Tuning hyperparameters via grid search with imbalanced dataset"
   ]
  },
  {
   "cell_type": "code",
   "execution_count": 13,
   "metadata": {},
   "outputs": [
    {
     "name": "stdout",
     "output_type": "stream",
     "text": [
      "Tuned Decision Tree Parameters: {'criterion': 'entropy', 'max_depth': 4, 'max_features': 7}\n",
      "Best training accuracy score using cv is 0.821\n"
     ]
    }
   ],
   "source": [
    "# Using grid search cross validation to select the best parameters\n",
    "\n",
    "param_grid = {'max_depth':list(range(1, 10)),\n",
    "              'max_features': list(range(1, 10)),\n",
    "             'criterion': [\"gini\", \"entropy\"]}\n",
    "\n",
    "tree_cv = GridSearchCV(DecisionTreeClassifier(random_state=43), param_grid, scoring = 'accuracy', cv = 10, n_jobs = -1)\n",
    "tree_cv.fit(X_train, y_train)\n",
    "\n",
    "\n",
    "print(\"Tuned Decision Tree Parameters: {}\".format(tree_cv.best_params_))\n",
    "print(\"Best training accuracy score using cv is {}\".format(np.round(tree_cv.best_score_, 3)))"
   ]
  },
  {
   "cell_type": "code",
   "execution_count": 14,
   "metadata": {},
   "outputs": [],
   "source": [
    "# Cross val score\n",
    "train_cv_scores = cross_val_score(tree_cv, X_train, y_train, scoring = 'accuracy', cv=10, n_jobs=-1)\n",
    "test_cv_scores = cross_val_score(tree_cv, X_test, y_test, scoring = 'accuracy', cv=10, n_jobs=-1)"
   ]
  },
  {
   "cell_type": "code",
   "execution_count": 15,
   "metadata": {},
   "outputs": [
    {
     "name": "stdout",
     "output_type": "stream",
     "text": [
      "The CV accuracy scores for the train set is: [0.815 0.82  0.815 0.813 0.822 0.813 0.82  0.823 0.823 0.827]\n",
      "The mean/standard deviation of CV accuracy score for the train set is: 0.819 +/- 0.005\n",
      "The CV accuracy scores for the test set is: [0.817 0.84  0.837 0.827 0.797 0.84  0.827 0.79  0.82  0.787]\n",
      "The mean/standard deviation of CV accuracy score for the test set is: 0.818 +/- 0.019\n"
     ]
    }
   ],
   "source": [
    "print('The CV accuracy scores for the train set is: %s' % np.round(train_cv_scores, 3))\n",
    "print('The mean/standard deviation of CV accuracy score for the train set is: %.3f +/- %.3f' % (np.mean(train_cv_scores), np.std(train_cv_scores)))\n",
    "print('The CV accuracy scores for the test set is: %s' % np.round(test_cv_scores, 3))\n",
    "print('The mean/standard deviation of CV accuracy score for the test set is: %.3f +/- %.3f' % (np.mean(test_cv_scores), np.std(test_cv_scores)))"
   ]
  },
  {
   "cell_type": "code",
   "execution_count": 16,
   "metadata": {},
   "outputs": [
    {
     "name": "stdout",
     "output_type": "stream",
     "text": [
      "The testing accuracy score using the best parameters is 0.823\n"
     ]
    }
   ],
   "source": [
    "## Using the best parameters to build decision tree model\n",
    "tree = DecisionTreeClassifier(criterion='entropy', max_depth = 4, max_features=7, random_state=43)\n",
    "tree.fit(X_train, y_train)\n",
    "y_pred = tree.predict(X_test)\n",
    "tree_bestcv_score = accuracy_score(y_test, y_pred)\n",
    "print('The testing accuracy score using the best parameters is {}'.format(np.round(tree_bestcv_score, 3)))"
   ]
  },
  {
   "cell_type": "code",
   "execution_count": 17,
   "metadata": {},
   "outputs": [
    {
     "name": "stdout",
     "output_type": "stream",
     "text": [
      "                pred_class 0   pred_class 1\n",
      "actual_class 0           2236           100\n",
      "actual_class 1            430           234\n"
     ]
    }
   ],
   "source": [
    "# Confusion Matrix\n",
    "conmatrix = confusion_matrix(y_test, y_pred)\n",
    "conmatrix = pd.DataFrame(conmatrix, \n",
    "              columns = ['pred_class 0 ', 'pred_class 1'], \n",
    "              index = ['actual_class 0', 'actual_class 1']\n",
    "              )\n",
    "print(conmatrix)"
   ]
  },
  {
   "cell_type": "code",
   "execution_count": 18,
   "metadata": {},
   "outputs": [
    {
     "name": "stdout",
     "output_type": "stream",
     "text": [
      "                        precision    recall  f1-score   support\n",
      "\n",
      "class 0 (non-defaults)       0.84      0.96      0.89      2336\n",
      "    class 1 (defaults)       0.70      0.35      0.47       664\n",
      "\n",
      "              accuracy                           0.82      3000\n",
      "             macro avg       0.77      0.65      0.68      3000\n",
      "          weighted avg       0.81      0.82      0.80      3000\n",
      "\n"
     ]
    }
   ],
   "source": [
    "# Classification Report\n",
    "target = ['class 0 (non-defaults)','class 1 (defaults)']\n",
    "report = classification_report(y_test, y_pred, target_names = target)\n",
    "print(report)"
   ]
  },
  {
   "cell_type": "markdown",
   "metadata": {},
   "source": [
    "# SMOTE for Imbalancing Data"
   ]
  },
  {
   "cell_type": "code",
   "execution_count": 19,
   "metadata": {},
   "outputs": [
    {
     "name": "stdout",
     "output_type": "stream",
     "text": [
      "Requirement already satisfied: imbalanced-learn in c:\\programdata\\anaconda3\\lib\\site-packages (0.8.1)\n",
      "Requirement already satisfied: numpy>=1.13.3 in c:\\programdata\\anaconda3\\lib\\site-packages (from imbalanced-learn) (1.20.1)\n",
      "Requirement already satisfied: joblib>=0.11 in c:\\programdata\\anaconda3\\lib\\site-packages (from imbalanced-learn) (1.0.1)\n",
      "Requirement already satisfied: scipy>=0.19.1 in c:\\programdata\\anaconda3\\lib\\site-packages (from imbalanced-learn) (1.6.2)\n",
      "Requirement already satisfied: scikit-learn>=0.24 in c:\\programdata\\anaconda3\\lib\\site-packages (from imbalanced-learn) (0.24.1)\n",
      "Requirement already satisfied: threadpoolctl>=2.0.0 in c:\\programdata\\anaconda3\\lib\\site-packages (from scikit-learn>=0.24->imbalanced-learn) (2.1.0)\n"
     ]
    }
   ],
   "source": [
    "!pip install -U imbalanced-learn"
   ]
  },
  {
   "cell_type": "code",
   "execution_count": 20,
   "metadata": {},
   "outputs": [
    {
     "name": "stdout",
     "output_type": "stream",
     "text": [
      "Collecting package metadata (current_repodata.json): ...working... done\n",
      "Solving environment: ...working... done\n",
      "\n",
      "# All requested packages already installed.\n",
      "\n",
      "\n",
      "Note: you may need to restart the kernel to use updated packages.\n"
     ]
    }
   ],
   "source": [
    "conda install -c glemaitre imbalanced-learn"
   ]
  },
  {
   "cell_type": "code",
   "execution_count": 21,
   "metadata": {},
   "outputs": [
    {
     "name": "stdout",
     "output_type": "stream",
     "text": [
      "Counter({0: 21028, 1: 5972})\n"
     ]
    }
   ],
   "source": [
    "# summarize class distribution\n",
    "counter = Counter(y_train)\n",
    "print(counter)"
   ]
  },
  {
   "cell_type": "code",
   "execution_count": 22,
   "metadata": {},
   "outputs": [],
   "source": [
    "# transform the dataset\n",
    "oversample = SMOTE(random_state=12)\n",
    "X_train_SMOTE, y_train_SMOTE = oversample.fit_resample(X_train, y_train)\n",
    "X_test_SMOTE, y_test_SMOTE = oversample.fit_resample(X_test, y_test)"
   ]
  },
  {
   "cell_type": "code",
   "execution_count": 23,
   "metadata": {},
   "outputs": [
    {
     "name": "stdout",
     "output_type": "stream",
     "text": [
      "Counter({1: 21028, 0: 21028})\n"
     ]
    }
   ],
   "source": [
    "# summarize the new class distribution\n",
    "counter_SMOTE = Counter(y_train_SMOTE)\n",
    "print(counter_SMOTE)"
   ]
  },
  {
   "cell_type": "markdown",
   "metadata": {},
   "source": [
    "# Tuning hyperparameters via grid search after SMOTE"
   ]
  },
  {
   "cell_type": "code",
   "execution_count": 24,
   "metadata": {},
   "outputs": [
    {
     "name": "stdout",
     "output_type": "stream",
     "text": [
      "Tuned Decision Tree Parameters: {'criterion': 'gini', 'max_depth': 9, 'max_features': 8}\n",
      "Best training accuracy score using cv is 0.749\n"
     ]
    }
   ],
   "source": [
    "# Using grid search cross validation to select the best parameters\n",
    "\n",
    "param_grid = {'max_depth':list(range(1, 10)),\n",
    "              'max_features': list(range(1, 10)),\n",
    "             'criterion': [\"gini\", \"entropy\"]}\n",
    "\n",
    "tree_cv = GridSearchCV(DecisionTreeClassifier(random_state=43), param_grid, scoring = 'accuracy', cv = 10, n_jobs = -1)\n",
    "tree_cv.fit(X_train_SMOTE, y_train_SMOTE)\n",
    "\n",
    "\n",
    "print(\"Tuned Decision Tree Parameters: {}\".format(tree_cv.best_params_))\n",
    "print(\"Best training accuracy score using cv is {}\".format(np.round(tree_cv.best_score_, 3)))"
   ]
  },
  {
   "cell_type": "code",
   "execution_count": 25,
   "metadata": {},
   "outputs": [],
   "source": [
    "# Cross val score\n",
    "train_cv_SMOTE_scores = cross_val_score(tree_cv, X_train_SMOTE, y_train_SMOTE, scoring = 'accuracy', cv=10, n_jobs=-1)\n",
    "test_cv_SMOTE_scores = cross_val_score(tree_cv, X_test_SMOTE, y_test_SMOTE, scoring = 'accuracy', cv=10, n_jobs=-1)"
   ]
  },
  {
   "cell_type": "code",
   "execution_count": 26,
   "metadata": {},
   "outputs": [
    {
     "name": "stdout",
     "output_type": "stream",
     "text": [
      "The CV accuracy scores for the train set after SMOTE is: [0.672 0.659 0.688 0.778 0.778 0.778 0.766 0.787 0.768 0.78 ]\n",
      "The mean/standard deviation of CV accuracy score for the train set after SMOTE is: 0.745 +/- 0.048\n",
      "The CV accuracy scores for the test set after SMOTE is: [0.673 0.671 0.722 0.782 0.767 0.769 0.788 0.728 0.767 0.786]\n",
      "The mean/standard deviation of CV accuracy score for the test set after SMOTE is: 0.745 +/- 0.042\n"
     ]
    }
   ],
   "source": [
    "print('The CV accuracy scores for the train set after SMOTE is: %s' % np.round(train_cv_SMOTE_scores, 3))\n",
    "print('The mean/standard deviation of CV accuracy score for the train set after SMOTE is: %.3f +/- %.3f' % (np.mean(train_cv_SMOTE_scores), np.std(train_cv_SMOTE_scores)))\n",
    "print('The CV accuracy scores for the test set after SMOTE is: %s' % np.round(test_cv_SMOTE_scores, 3))\n",
    "print('The mean/standard deviation of CV accuracy score for the test set after SMOTE is: %.3f +/- %.3f' % (np.mean(test_cv_SMOTE_scores), np.std(test_cv_SMOTE_scores)))"
   ]
  },
  {
   "cell_type": "code",
   "execution_count": 27,
   "metadata": {},
   "outputs": [
    {
     "name": "stdout",
     "output_type": "stream",
     "text": [
      "The testing accuracy score using the best parameters is 0.743\n"
     ]
    }
   ],
   "source": [
    "## Using the best parameters to build decision tree model\n",
    "tree = DecisionTreeClassifier(criterion='gini', max_depth = 9, max_features=8, random_state=43)\n",
    "tree.fit(X_train_SMOTE, y_train_SMOTE)\n",
    "y_pred_SMOTE = tree.predict(X_test_SMOTE)\n",
    "tree_bestSMOTEcv_score = accuracy_score(y_test_SMOTE, y_pred_SMOTE)\n",
    "print('The testing accuracy score using the best parameters is {}'.format(np.round(tree_bestSMOTEcv_score, 3)))"
   ]
  },
  {
   "cell_type": "code",
   "execution_count": 28,
   "metadata": {},
   "outputs": [
    {
     "name": "stdout",
     "output_type": "stream",
     "text": [
      "                pred_class 0   pred_class 1\n",
      "actual_class 0           1825           511\n",
      "actual_class 1            689          1647\n"
     ]
    }
   ],
   "source": [
    "# Confusion Matrix\n",
    "conmatrix_SMOTE = confusion_matrix(y_test_SMOTE, y_pred_SMOTE)\n",
    "conmatrix_SMOTE = pd.DataFrame(conmatrix_SMOTE, \n",
    "              columns = ['pred_class 0 ', 'pred_class 1'], \n",
    "              index = ['actual_class 0', 'actual_class 1']\n",
    "              )\n",
    "print(conmatrix_SMOTE)"
   ]
  },
  {
   "cell_type": "code",
   "execution_count": 29,
   "metadata": {},
   "outputs": [
    {
     "name": "stdout",
     "output_type": "stream",
     "text": [
      "                        precision    recall  f1-score   support\n",
      "\n",
      "class 0 (non-defaults)       0.73      0.78      0.75      2336\n",
      "    class 1 (defaults)       0.76      0.71      0.73      2336\n",
      "\n",
      "              accuracy                           0.74      4672\n",
      "             macro avg       0.74      0.74      0.74      4672\n",
      "          weighted avg       0.74      0.74      0.74      4672\n",
      "\n"
     ]
    }
   ],
   "source": [
    "# Classification Report\n",
    "target = ['class 0 (non-defaults)','class 1 (defaults)']\n",
    "report_SMOTE = classification_report(y_test_SMOTE, y_pred_SMOTE, target_names = target)\n",
    "print(report_SMOTE)"
   ]
  },
  {
   "cell_type": "code",
   "execution_count": 30,
   "metadata": {},
   "outputs": [
    {
     "name": "stderr",
     "output_type": "stream",
     "text": [
      "<ipython-input-30-6f20c28436eb>:6: UserWarning: FixedFormatter should only be used together with FixedLocator\n",
      "  ax.set_xticklabels([''] + labels)\n",
      "<ipython-input-30-6f20c28436eb>:7: UserWarning: FixedFormatter should only be used together with FixedLocator\n",
      "  ax.set_yticklabels([''] + labels)\n"
     ]
    },
    {
     "data": {
      "image/png": "[encoded data removed]",
      "text/plain": [
       "<Figure size 432x288 with 2 Axes>"
      ]
     },
     "metadata": {
      "needs_background": "light"
     },
     "output_type": "display_data"
    }
   ],
   "source": [
    "labels = ['Class 0', 'Class 1']\n",
    "fig = plt.figure()\n",
    "ax = fig.add_subplot(111)\n",
    "cax = ax.matshow(confusion_matrix(y_test_SMOTE, y_pred_SMOTE), cmap=plt.cm.Blues)\n",
    "fig.colorbar(cax)\n",
    "ax.set_xticklabels([''] + labels)\n",
    "ax.set_yticklabels([''] + labels)\n",
    "plt.xlabel('Predicted')\n",
    "plt.ylabel('Expected')\n",
    "plt.show()"
   ]
  },
  {
   "cell_type": "markdown",
   "metadata": {},
   "source": [
    "# Randomundersampling for Imbalancing Data"
   ]
  },
  {
   "cell_type": "code",
   "execution_count": 31,
   "metadata": {},
   "outputs": [],
   "source": [
    "# transform the dataset\n",
    "undersample = RandomUnderSampler(random_state=12)\n",
    "X_train_undersample, y_train_undersample = oversample.fit_resample(X_train, y_train)\n",
    "X_test_undersample, y_test_undersample = oversample.fit_resample(X_test, y_test)"
   ]
  },
  {
   "cell_type": "code",
   "execution_count": 33,
   "metadata": {},
   "outputs": [
    {
     "name": "stdout",
     "output_type": "stream",
     "text": [
      "(42056, 23) (42056,)\n"
     ]
    }
   ],
   "source": [
    "print(X_train_undersample.shape, y_train_undersample.shape)"
   ]
  },
  {
   "cell_type": "code",
   "execution_count": 34,
   "metadata": {},
   "outputs": [
    {
     "name": "stdout",
     "output_type": "stream",
     "text": [
      "Counter({1: 21028, 0: 21028})\n"
     ]
    }
   ],
   "source": [
    "# summarize the new class distribution\n",
    "counter_undersample = Counter(y_train_undersample)\n",
    "print(counter_undersample)"
   ]
  },
  {
   "cell_type": "markdown",
   "metadata": {},
   "source": [
    "# Tuning hyperparameters via grid search after Randomundersampling"
   ]
  },
  {
   "cell_type": "code",
   "execution_count": 35,
   "metadata": {},
   "outputs": [
    {
     "name": "stdout",
     "output_type": "stream",
     "text": [
      "Tuned Decision Tree Parameters: {'criterion': 'gini', 'max_depth': 9, 'max_features': 8}\n",
      "Best training accuracy score using cv is 0.749\n"
     ]
    }
   ],
   "source": [
    "# Using grid search cross validation to select the best parameters\n",
    "\n",
    "param_grid = {'max_depth':list(range(1, 10)),\n",
    "              'max_features': list(range(1, 10)),\n",
    "             'criterion': [\"gini\", \"entropy\"]}\n",
    "\n",
    "tree_cv_2 = GridSearchCV(DecisionTreeClassifier(random_state=43), param_grid, scoring = 'accuracy', cv = 10, n_jobs = -1)\n",
    "tree_cv_2.fit(X_train_undersample, y_train_undersample)\n",
    "\n",
    "\n",
    "print(\"Tuned Decision Tree Parameters: {}\".format(tree_cv_2.best_params_))\n",
    "print(\"Best training accuracy score using cv is {}\".format(np.round(tree_cv_2.best_score_, 3)))"
   ]
  },
  {
   "cell_type": "code",
   "execution_count": 36,
   "metadata": {},
   "outputs": [],
   "source": [
    "# Cross val score\n",
    "train_cv_undersample_scores = cross_val_score(tree_cv_2, X_train_undersample, y_train_undersample, scoring = 'accuracy', cv=10, n_jobs=-1)\n",
    "test_cv_undersample_scores = cross_val_score(tree_cv_2, X_test_undersample, y_test_undersample, scoring = 'accuracy', cv=10, n_jobs=-1)"
   ]
  },
  {
   "cell_type": "code",
   "execution_count": 37,
   "metadata": {},
   "outputs": [
    {
     "name": "stdout",
     "output_type": "stream",
     "text": [
      "The CV accuracy scores for the train set after Randomundersampling is: [0.672 0.659 0.688 0.778 0.778 0.778 0.766 0.787 0.768 0.78 ]\n",
      "The mean/standard deviation of CV accuracy score for the train set after Randomundersampling is: 0.745 +/- 0.048\n",
      "The CV accuracy scores for the test set after Randomundersampling is: [0.673 0.671 0.722 0.782 0.767 0.769 0.788 0.728 0.767 0.786]\n",
      "The mean/standard deviation of CV accuracy score for the test set after Randomundersampling is: 0.745 +/- 0.042\n"
     ]
    }
   ],
   "source": [
    "print('The CV accuracy scores for the train set after Randomundersampling is: %s' % np.round(train_cv_undersample_scores, 3))\n",
    "print('The mean/standard deviation of CV accuracy score for the train set after Randomundersampling is: %.3f +/- %.3f' % (np.mean(train_cv_undersample_scores), np.std(train_cv_undersample_scores)))\n",
    "print('The CV accuracy scores for the test set after Randomundersampling is: %s' % np.round(test_cv_undersample_scores, 3))\n",
    "print('The mean/standard deviation of CV accuracy score for the test set after Randomundersampling is: %.3f +/- %.3f' % (np.mean(test_cv_undersample_scores), np.std(test_cv_undersample_scores)))"
   ]
  },
  {
   "cell_type": "code",
   "execution_count": 38,
   "metadata": {},
   "outputs": [
    {
     "name": "stdout",
     "output_type": "stream",
     "text": [
      "The testing accuracy score using the best parameters is 0.743\n"
     ]
    }
   ],
   "source": [
    "## Using the best parameters to build decision tree model\n",
    "tree = DecisionTreeClassifier(criterion='gini', max_depth = 9, max_features=8, random_state=43)\n",
    "tree.fit(X_train_undersample, y_train_undersample)\n",
    "y_pred_undersample = tree.predict(X_test_undersample)\n",
    "tree_bestUndersamplecv_score = accuracy_score(y_test_undersample, y_pred_undersample)\n",
    "print('The testing accuracy score using the best parameters is {}'.format(np.round(tree_bestUndersamplecv_score, 3)))"
   ]
  },
  {
   "cell_type": "code",
   "execution_count": 39,
   "metadata": {},
   "outputs": [
    {
     "name": "stdout",
     "output_type": "stream",
     "text": [
      "                pred_class 0   pred_class 1\n",
      "actual_class 0           1825           511\n",
      "actual_class 1            689          1647\n"
     ]
    }
   ],
   "source": [
    "# Confusion Matrix\n",
    "conmatrix_undersample = confusion_matrix(y_test_undersample, y_pred_undersample)\n",
    "conmatrix_undersample = pd.DataFrame(conmatrix_undersample, \n",
    "              columns = ['pred_class 0 ', 'pred_class 1'], \n",
    "              index = ['actual_class 0', 'actual_class 1']\n",
    "              )\n",
    "print(conmatrix_undersample)"
   ]
  },
  {
   "cell_type": "code",
   "execution_count": 40,
   "metadata": {},
   "outputs": [
    {
     "name": "stdout",
     "output_type": "stream",
     "text": [
      "                        precision    recall  f1-score   support\n",
      "\n",
      "class 0 (non-defaults)       0.73      0.78      0.75      2336\n",
      "    class 1 (defaults)       0.76      0.71      0.73      2336\n",
      "\n",
      "              accuracy                           0.74      4672\n",
      "             macro avg       0.74      0.74      0.74      4672\n",
      "          weighted avg       0.74      0.74      0.74      4672\n",
      "\n"
     ]
    }
   ],
   "source": [
    "# Classification Report\n",
    "target = ['class 0 (non-defaults)','class 1 (defaults)']\n",
    "report_undersample = classification_report(y_test_undersample, y_pred_undersample, target_names = target)\n",
    "print(report_undersample)"
   ]
  },
  {
   "cell_type": "code",
   "execution_count": 41,
   "metadata": {},
   "outputs": [
    {
     "name": "stderr",
     "output_type": "stream",
     "text": [
      "<ipython-input-41-4cb39ff9d4b9>:6: UserWarning: FixedFormatter should only be used together with FixedLocator\n",
      "  ax.set_xticklabels([''] + labels)\n",
      "<ipython-input-41-4cb39ff9d4b9>:7: UserWarning: FixedFormatter should only be used together with FixedLocator\n",
      "  ax.set_yticklabels([''] + labels)\n"
     ]
    },
    {
     "data": {
      "image/png": "[encoded data removed]",
      "text/plain": [
       "<Figure size 432x288 with 2 Axes>"
      ]
     },
     "metadata": {
      "needs_background": "light"
     },
     "output_type": "display_data"
    }
   ],
   "source": [
    "labels = ['Class 0', 'Class 1']\n",
    "fig = plt.figure()\n",
    "ax = fig.add_subplot(111)\n",
    "cax = ax.matshow(confusion_matrix(y_test_undersample, y_pred_undersample), cmap=plt.cm.Blues)\n",
    "fig.colorbar(cax)\n",
    "ax.set_xticklabels([''] + labels)\n",
    "ax.set_yticklabels([''] + labels)\n",
    "plt.xlabel('Predicted')\n",
    "plt.ylabel('Expected')\n",
    "plt.show()"
   ]
  },
  {
   "cell_type": "code",
   "execution_count": null,
   "metadata": {},
   "outputs": [],
   "source": []
  },
  {
   "cell_type": "code",
   "execution_count": 42,
   "metadata": {},
   "outputs": [
    {
     "name": "stdout",
     "output_type": "stream",
     "text": [
      "My name is Hui-Erh Chai_Angela\n",
      "My NetID is: 674939884\n",
      "I hereby certify that I have read the University policy on Academic Integrity and that I am not in violation.\n"
     ]
    }
   ],
   "source": [
    "print(\"My name is Hui-Erh Chai_Angela\")\n",
    "print(\"My NetID is: 674939884\")\n",
    "print(\"I hereby certify that I have read the University policy on Academic Integrity and that I am not in violation.\")"
   ]
  },
  {
   "cell_type": "code",
   "execution_count": null,
   "metadata": {},
   "outputs": [],
   "source": []
  }
 ],
 "metadata": {
  "kernelspec": {
   "display_name": "Python 3",
   "language": "python",
   "name": "python3"
  },
  "language_info": {
   "codemirror_mode": {
    "name": "ipython",
    "version": 3
   },
   "file_extension": ".py",
   "mimetype": "text/x-python",
   "name": "python",
   "nbconvert_exporter": "python",
   "pygments_lexer": "ipython3",
   "version": "3.8.8"
  }
 },
 "nbformat": 4,
 "nbformat_minor": 4
}
